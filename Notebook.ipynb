{
 "cells": [
  {
   "cell_type": "code",
   "execution_count": 1,
   "metadata": {},
   "outputs": [],
   "source": [
    "import plotly.plotly as py\n",
    "import plotly.graph_objs as go\n",
    "import networkx as nx"
   ]
  },
  {
   "cell_type": "code",
   "execution_count": 3,
   "metadata": {},
   "outputs": [
    {
     "name": "stdout",
     "output_type": "stream",
     "text": [
      "Converting 717 unique ids to pmid format\n",
      "Succesfully converted 717 ids.\n",
      "Example:\n",
      "Paper: 21749307 is cited by 10 articles.\n",
      "Example:\n",
      "Paper: 21749307 cites 100 articles.\n",
      "Metadata for PMC3331894\n",
      "AuthorList: \n",
      "Author: ['Chaves FA', 'Lee AH', 'Nayak J', 'Richards KA', 'Sant AJ']\n",
      "DOI: 10.4049/jimmunol.1103640\n",
      "SO: 2012 Mar 30;188(9):4235-4248\n",
      "Issue: 9\n",
      "FullJournalName: Journal of Immunology (Baltimore, Md. : 1950)\n",
      "Source: J Immunol\n",
      "pmid: 22467652\n",
      "PubDate: 2012 Mar 30\n",
      "EPubDate: 2012 Mar 30\n",
      "MID: NIHMS361302\n",
      "Volume: 188\n",
      "Pages: 4235-4248\n",
      "Title: The utility and limitations of current web-available algorithms to predict peptides recognized by CD4 T cells in response to pathogen infection\n",
      "pmcid: PMC3331894\n",
      "ArticleIds: \n",
      "doi: 10.4049/jimmunol.1103640\n"
     ]
    }
   ],
   "source": [
    "%run code/CitationGraph.py"
   ]
  },
  {
   "cell_type": "code",
   "execution_count": null,
   "metadata": {},
   "outputs": [],
   "source": []
  }
 ],
 "metadata": {
  "kernelspec": {
   "display_name": "Python [conda env:citation_graph]",
   "language": "python",
   "name": "conda-env-citation_graph-py"
  },
  "language_info": {
   "codemirror_mode": {
    "name": "ipython",
    "version": 3
   },
   "file_extension": ".py",
   "mimetype": "text/x-python",
   "name": "python",
   "nbconvert_exporter": "python",
   "pygments_lexer": "ipython3",
   "version": "3.5.6"
  }
 },
 "nbformat": 4,
 "nbformat_minor": 2
}
